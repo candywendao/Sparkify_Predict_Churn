{
 "cells": [
  {
   "cell_type": "markdown",
   "metadata": {},
   "source": [
    "# Sparkify Project Workspace\n",
    "This workspace contains a tiny subset (128MB) of the full dataset available (12GB)"
   ]
  },
  {
   "cell_type": "code",
   "execution_count": 61,
   "metadata": {},
   "outputs": [
    {
     "data": {
      "application/javascript": [
       "IPython.notebook.set_autosave_interval(60000)"
      ]
     },
     "metadata": {},
     "output_type": "display_data"
    },
    {
     "name": "stdout",
     "output_type": "stream",
     "text": [
      "Autosaving every 60 seconds\n"
     ]
    }
   ],
   "source": [
    "# import libraries\n",
    "\n",
    "import pyspark\n",
    "from pyspark import SparkContext, SparkConf\n",
    "from pyspark.sql import SparkSession\n",
    "from pyspark.sql.types import IntegerType, FloatType\n",
    "from pyspark.sql.functions import desc, asc, udf, lit, countDistinct, sum, when, isnan\n",
    "\n",
    "from pyspark.ml import Pipeline\n",
    "from pyspark.ml.classification import LogisticRegression, RandomForestClassifier, GBTClassifier\n",
    "from pyspark.ml.evaluation import MulticlassClassificationEvaluator\n",
    "from pyspark.ml.feature import CountVectorizer, IDF, Normalizer, PCA, RegexTokenizer, StandardScaler, StopWordsRemover, StringIndexer, VectorAssembler\n",
    "from pyspark.ml.regression import LinearRegression\n",
    "from pyspark.ml.tuning import CrossValidator, ParamGridBuilder\n",
    "\n",
    "import datetime\n",
    "import time\n",
    "\n",
    "import pandas as pd\n",
    "import numpy as np\n",
    "import matplotlib.pyplot as plt\n",
    "import seaborn as sns\n",
    "\n",
    "\n",
    "%matplotlib inline\n",
    "%autosave 60"
   ]
  },
  {
   "cell_type": "code",
   "execution_count": 32,
   "metadata": {},
   "outputs": [],
   "source": [
    "# create a Spark session\n",
    "spark = SparkSession.builder.master('local').appName('Sparkify Churn Project').getOrCreate()"
   ]
  },
  {
   "cell_type": "markdown",
   "metadata": {},
   "source": [
    "# 1. Load and Clean Dataset\n",
    "In this workspace, the mini-dataset file is `mini_sparkify_event_data.json`. Load and clean the dataset, checking for invalid or missing data - for example, records without userids or sessionids. "
   ]
  },
  {
   "cell_type": "code",
   "execution_count": 33,
   "metadata": {},
   "outputs": [
    {
     "data": {
      "text/plain": [
       "DataFrame[artist: string, auth: string, firstName: string, gender: string, itemInSession: bigint, lastName: string, length: double, level: string, location: string, method: string, page: string, registration: bigint, sessionId: bigint, song: string, status: bigint, ts: bigint, userAgent: string, userId: string]"
      ]
     },
     "execution_count": 33,
     "metadata": {},
     "output_type": "execute_result"
    }
   ],
   "source": [
    "sparkify_event_data = spark.read.json('./mini_sparkify_event_data.json')\n",
    "sparkify_event_data.persist()"
   ]
  },
  {
   "cell_type": "markdown",
   "metadata": {},
   "source": [
    "# 2. Exploratory Data Analysis"
   ]
  },
  {
   "cell_type": "code",
   "execution_count": 4,
   "metadata": {},
   "outputs": [
    {
     "name": "stdout",
     "output_type": "stream",
     "text": [
      "root\n",
      " |-- artist: string (nullable = true)\n",
      " |-- auth: string (nullable = true)\n",
      " |-- firstName: string (nullable = true)\n",
      " |-- gender: string (nullable = true)\n",
      " |-- itemInSession: long (nullable = true)\n",
      " |-- lastName: string (nullable = true)\n",
      " |-- length: double (nullable = true)\n",
      " |-- level: string (nullable = true)\n",
      " |-- location: string (nullable = true)\n",
      " |-- method: string (nullable = true)\n",
      " |-- page: string (nullable = true)\n",
      " |-- registration: long (nullable = true)\n",
      " |-- sessionId: long (nullable = true)\n",
      " |-- song: string (nullable = true)\n",
      " |-- status: long (nullable = true)\n",
      " |-- ts: long (nullable = true)\n",
      " |-- userAgent: string (nullable = true)\n",
      " |-- userId: string (nullable = true)\n",
      "\n"
     ]
    }
   ],
   "source": [
    "sparkify_event_data.printSchema()"
   ]
  },
  {
   "cell_type": "code",
   "execution_count": 5,
   "metadata": {
    "scrolled": true
   },
   "outputs": [
    {
     "data": {
      "text/plain": [
       "(286500, 18)"
      ]
     },
     "execution_count": 5,
     "metadata": {},
     "output_type": "execute_result"
    }
   ],
   "source": [
    "sparkify_event_data.count(), len(sparkify_event_data.columns)"
   ]
  },
  {
   "cell_type": "code",
   "execution_count": 6,
   "metadata": {
    "scrolled": true
   },
   "outputs": [
    {
     "name": "stdout",
     "output_type": "stream",
     "text": [
      "+--------------+---------+---------+------+-------------+--------+---------+-----+---------------+------+--------+-------------+---------+---------+------+-------------+--------------------+------+\n",
      "|        artist|     auth|firstName|gender|itemInSession|lastName|   length|level|       location|method|    page| registration|sessionId|     song|status|           ts|           userAgent|userId|\n",
      "+--------------+---------+---------+------+-------------+--------+---------+-----+---------------+------+--------+-------------+---------+---------+------+-------------+--------------------+------+\n",
      "|Martha Tilston|Logged In|    Colin|     M|           50| Freeman|277.89016| paid|Bakersfield, CA|   PUT|NextSong|1538173362000|       29|Rockpools|   200|1538352117000|Mozilla/5.0 (Wind...|    30|\n",
      "+--------------+---------+---------+------+-------------+--------+---------+-----+---------------+------+--------+-------------+---------+---------+------+-------------+--------------------+------+\n",
      "only showing top 1 row\n",
      "\n"
     ]
    }
   ],
   "source": [
    "sparkify_event_data.show(1)"
   ]
  },
  {
   "cell_type": "markdown",
   "metadata": {},
   "source": [
    "### 2.1. Process Null Values"
   ]
  },
  {
   "cell_type": "code",
   "execution_count": 7,
   "metadata": {},
   "outputs": [
    {
     "name": "stdout",
     "output_type": "stream",
     "text": [
      "artist 58392\n",
      "auth 0\n",
      "firstName 8346\n",
      "gender 8346\n",
      "itemInSession 0\n",
      "lastName 8346\n",
      "length 58392\n",
      "level 0\n",
      "location 8346\n",
      "method 0\n",
      "page 0\n",
      "registration 8346\n",
      "sessionId 0\n",
      "song 58392\n",
      "status 0\n",
      "ts 0\n",
      "userAgent 8346\n",
      "userId 8346\n"
     ]
    }
   ],
   "source": [
    "# Check null values\n",
    "for col in sparkify_event_data.schema.names: \n",
    "    print(col, sparkify_event_data.filter((sparkify_event_data[col] == \"\") | sparkify_event_data[col].isNull()).count())"
   ]
  },
  {
   "cell_type": "markdown",
   "metadata": {},
   "source": [
    "There are two count numbers of missing values - 8346 and 58392."
   ]
  },
  {
   "cell_type": "code",
   "execution_count": 8,
   "metadata": {},
   "outputs": [
    {
     "name": "stdout",
     "output_type": "stream",
     "text": [
      "+------+----------------------+\n",
      "|gender|count(DISTINCT userId)|\n",
      "+------+----------------------+\n",
      "|     F|                   104|\n",
      "|  null|                     1|\n",
      "|     M|                   121|\n",
      "+------+----------------------+\n",
      "\n",
      "+-----+----------------------+\n",
      "|level|count(DISTINCT userId)|\n",
      "+-----+----------------------+\n",
      "| free|                   196|\n",
      "| paid|                   166|\n",
      "+-----+----------------------+\n",
      "\n"
     ]
    }
   ],
   "source": [
    "for col in ['gender', 'level']:\n",
    "    sparkify_event_data.groupby(col).agg(countDistinct('userId')).show()"
   ]
  },
  {
   "cell_type": "code",
   "execution_count": 9,
   "metadata": {},
   "outputs": [
    {
     "name": "stdout",
     "output_type": "stream",
     "text": [
      "+----------+------+\n",
      "|      auth| count|\n",
      "+----------+------+\n",
      "|Logged Out|  8249|\n",
      "| Cancelled|    52|\n",
      "|     Guest|    97|\n",
      "| Logged In|278102|\n",
      "+----------+------+\n",
      "\n",
      "+------+------+\n",
      "|method| count|\n",
      "+------+------+\n",
      "|   PUT|261064|\n",
      "|   GET| 25436|\n",
      "+------+------+\n",
      "\n",
      "+--------------------+------+\n",
      "|                page| count|\n",
      "+--------------------+------+\n",
      "|              Cancel|    52|\n",
      "|    Submit Downgrade|    63|\n",
      "|         Thumbs Down|  2546|\n",
      "|                Home| 14457|\n",
      "|           Downgrade|  2055|\n",
      "|         Roll Advert|  3933|\n",
      "|              Logout|  3226|\n",
      "|       Save Settings|   310|\n",
      "|Cancellation Conf...|    52|\n",
      "|               About|   924|\n",
      "| Submit Registration|     5|\n",
      "|            Settings|  1514|\n",
      "|               Login|  3241|\n",
      "|            Register|    18|\n",
      "|     Add to Playlist|  6526|\n",
      "|          Add Friend|  4277|\n",
      "|            NextSong|228108|\n",
      "|           Thumbs Up| 12551|\n",
      "|                Help|  1726|\n",
      "|             Upgrade|   499|\n",
      "+--------------------+------+\n",
      "only showing top 20 rows\n",
      "\n"
     ]
    }
   ],
   "source": [
    "for col in ['auth','method', 'page']:\n",
    "    sparkify_event_data.groupby(col).count().show()"
   ]
  },
  {
   "cell_type": "code",
   "execution_count": 34,
   "metadata": {},
   "outputs": [],
   "source": [
    "# drop null values in column 'gender'. \n",
    "sparkify_event_data = sparkify_event_data.filter(sparkify_event_data.gender.isNotNull())"
   ]
  },
  {
   "cell_type": "code",
   "execution_count": 11,
   "metadata": {},
   "outputs": [
    {
     "name": "stdout",
     "output_type": "stream",
     "text": [
      "+------+----------------------+\n",
      "|gender|count(DISTINCT userId)|\n",
      "+------+----------------------+\n",
      "|     F|                   104|\n",
      "|     M|                   121|\n",
      "+------+----------------------+\n",
      "\n",
      "+-----+----------------------+\n",
      "|level|count(DISTINCT userId)|\n",
      "+-----+----------------------+\n",
      "| free|                   195|\n",
      "| paid|                   165|\n",
      "+-----+----------------------+\n",
      "\n"
     ]
    }
   ],
   "source": [
    "for col in ['gender', 'level']:\n",
    "    sparkify_event_data.groupby(col).agg(countDistinct('userId')).show()"
   ]
  },
  {
   "cell_type": "code",
   "execution_count": 12,
   "metadata": {},
   "outputs": [
    {
     "name": "stdout",
     "output_type": "stream",
     "text": [
      "+---------+------+\n",
      "|     auth| count|\n",
      "+---------+------+\n",
      "|Cancelled|    52|\n",
      "|Logged In|278102|\n",
      "+---------+------+\n",
      "\n",
      "None\n",
      "+------+------+\n",
      "|method| count|\n",
      "+------+------+\n",
      "|   PUT|257818|\n",
      "|   GET| 20336|\n",
      "+------+------+\n",
      "\n",
      "None\n",
      "+--------------------+------+\n",
      "|                page| count|\n",
      "+--------------------+------+\n",
      "|              Cancel|    52|\n",
      "|    Submit Downgrade|    63|\n",
      "|         Thumbs Down|  2546|\n",
      "|                Home| 10082|\n",
      "|           Downgrade|  2055|\n",
      "|         Roll Advert|  3933|\n",
      "|              Logout|  3226|\n",
      "|       Save Settings|   310|\n",
      "|Cancellation Conf...|    52|\n",
      "|               About|   495|\n",
      "|            Settings|  1514|\n",
      "|     Add to Playlist|  6526|\n",
      "|          Add Friend|  4277|\n",
      "|            NextSong|228108|\n",
      "|           Thumbs Up| 12551|\n",
      "|                Help|  1454|\n",
      "|             Upgrade|   499|\n",
      "|               Error|   252|\n",
      "|      Submit Upgrade|   159|\n",
      "+--------------------+------+\n",
      "\n",
      "None\n"
     ]
    }
   ],
   "source": [
    "for col in ['auth','method', 'page']:\n",
    "    print(sparkify_event_data.groupby(col).count().show(100))"
   ]
  },
  {
   "cell_type": "markdown",
   "metadata": {},
   "source": [
    "Dropped null records in column gender are logged-out visitors and guests. In total of 8346 rows. The rest 50046 null values are within the columns 'artist', 'length' and 'song'. "
   ]
  },
  {
   "cell_type": "code",
   "execution_count": 13,
   "metadata": {},
   "outputs": [
    {
     "name": "stdout",
     "output_type": "stream",
     "text": [
      "artist 50046\n",
      "auth 0\n",
      "firstName 0\n",
      "gender 0\n",
      "itemInSession 0\n",
      "lastName 0\n",
      "length 50046\n",
      "level 0\n",
      "location 0\n",
      "method 0\n",
      "page 0\n",
      "registration 0\n",
      "sessionId 0\n",
      "song 50046\n",
      "status 0\n",
      "ts 0\n",
      "userAgent 0\n",
      "userId 0\n"
     ]
    }
   ],
   "source": [
    "for col in sparkify_event_data.schema.names: \n",
    "    print(col, sparkify_event_data.filter((sparkify_event_data[col] == \"\") | sparkify_event_data[col].isNull()).count())"
   ]
  },
  {
   "cell_type": "code",
   "execution_count": 14,
   "metadata": {},
   "outputs": [
    {
     "name": "stdout",
     "output_type": "stream",
     "text": [
      "+--------+\n",
      "|    page|\n",
      "+--------+\n",
      "|NextSong|\n",
      "+--------+\n",
      "\n",
      "+--------+\n",
      "|    page|\n",
      "+--------+\n",
      "|NextSong|\n",
      "+--------+\n",
      "\n",
      "+--------+\n",
      "|    page|\n",
      "+--------+\n",
      "|NextSong|\n",
      "+--------+\n",
      "\n"
     ]
    }
   ],
   "source": [
    "for col in ['artist','length','song']:\n",
    "    sparkify_event_data.filter((sparkify_event_data[col] != \"\") | sparkify_event_data[col].isNotNull()).select('page').distinct().show()"
   ]
  },
  {
   "cell_type": "markdown",
   "metadata": {},
   "source": [
    "'artist','length' and 'song' are non-null only for pages 'NextSong'."
   ]
  },
  {
   "cell_type": "code",
   "execution_count": 35,
   "metadata": {},
   "outputs": [
    {
     "name": "stdout",
     "output_type": "stream",
     "text": [
      "+-------+-------------------+\n",
      "|summary|           datetime|\n",
      "+-------+-------------------+\n",
      "|  count|             278154|\n",
      "|   mean|               null|\n",
      "| stddev|               null|\n",
      "|    min|2018-10-01 00:01:57|\n",
      "|    max|2018-12-03 01:11:16|\n",
      "+-------+-------------------+\n",
      "\n"
     ]
    }
   ],
   "source": [
    "# convert timestamp to date and time\n",
    "get_datetime = udf(lambda x: datetime.datetime.fromtimestamp(x /1000.0).strftime('%Y-%m-%d %H:%M:%S'))\n",
    "sparkify_event_data = sparkify_event_data.withColumn(\"datetime\", get_datetime(sparkify_event_data.ts))\n",
    "sparkify_event_data.select('datetime').describe().show()"
   ]
  },
  {
   "cell_type": "markdown",
   "metadata": {},
   "source": [
    "### 2.2. Define Churn\n",
    "Define based whether a user visited page 'Cancellation Confirmation'."
   ]
  },
  {
   "cell_type": "code",
   "execution_count": 36,
   "metadata": {},
   "outputs": [
    {
     "name": "stdout",
     "output_type": "stream",
     "text": [
      "+--------+----------------------+\n",
      "|is_churn|count(DISTINCT userId)|\n",
      "+--------+----------------------+\n",
      "|       1|                    52|\n",
      "|       0|                   173|\n",
      "+--------+----------------------+\n",
      "\n"
     ]
    }
   ],
   "source": [
    "# Create var 'Churn'\n",
    "churn_users = sparkify_event_data.select('userId').where(sparkify_event_data.page == 'Cancellation Confirmation').distinct().\\\n",
    "                    withColumn('is_churn', lit(1))\n",
    "sparkify_event_churn = sparkify_event_data.join(churn_users, on = 'userId', how = 'left')\n",
    "sparkify_event_churn = sparkify_event_churn.fillna({'is_churn':0})\n",
    "sparkify_event_churn.groupby('is_churn').agg(countDistinct('userId')).show()"
   ]
  },
  {
   "cell_type": "markdown",
   "metadata": {},
   "source": [
    "### 2.3. Explore Dataset with Churn"
   ]
  },
  {
   "cell_type": "code",
   "execution_count": 37,
   "metadata": {},
   "outputs": [],
   "source": [
    "# generate full userId list with gender\n",
    "user_gender = sparkify_event_churn.select('userId','gender').distinct()\n",
    "\n",
    "# was or is paid user\n",
    "paid_users = sparkify_event_churn.select('userId').where(sparkify_event_churn.level == 'paid').distinct().\\\n",
    "                    withColumn('is_paid_user', lit(1))"
   ]
  },
  {
   "cell_type": "code",
   "execution_count": 38,
   "metadata": {},
   "outputs": [],
   "source": [
    "# calculte num of songs, num of artist listened to, number of sessions, number of pages visited per user\n",
    "num_of_events = {} \n",
    "for col in ['artist','page','sessionId','song']:  \n",
    "        num_of_events[col] = sparkify_event_churn.groupby('userId').agg(countDistinct(col))\n",
    "                "
   ]
  },
  {
   "cell_type": "code",
   "execution_count": 39,
   "metadata": {},
   "outputs": [],
   "source": [
    "# count num of spefific pagesviews per user\n",
    "page_cnts = spark.createDataFrame(sparkify_event_churn.groupby('userId', 'page').count().toPandas().\\\n",
    "                        pivot(index = 'userId', columns = 'page', values = 'count').reset_index().\\\n",
    "                                 rename(columns = {'Add Friend':'Add_Friend', 'Roll Advert':'Roll_Advert', 'Thumbs Down':'Thumbs_Down',\\\n",
    "                                                    'Thumbs Up':'Thumbs_Up'}))\n",
    "page_cnts = page_cnts.select('userId','Add_Friend', 'Downgrade', 'Upgrade', 'Error', 'Help', 'Logout', 'NextSong', \\\n",
    "                             'Roll_Advert', 'Thumbs_Down', 'Thumbs_Up')"
   ]
  },
  {
   "cell_type": "code",
   "execution_count": 40,
   "metadata": {},
   "outputs": [],
   "source": [
    "# Add most frequent device\n",
    "get_device = udf(lambda x: x.split('(')[1].split(';')[0].split(' ')[0])\n",
    "sparkify_event_churn = sparkify_event_churn.withColumn(\"device\", get_device(sparkify_event_churn.userAgent))\n",
    "device_cnts = sparkify_event_churn.groupby('userId', 'device').count().toPandas()\n",
    "device_cnts = spark.createDataFrame(device_cnts.sort_values(['userId','count']).\\\n",
    "                                    drop_duplicates(subset = 'userId', keep = 'last'))"
   ]
  },
  {
   "cell_type": "code",
   "execution_count": 41,
   "metadata": {},
   "outputs": [],
   "source": [
    "# merge dataset\n",
    "data = user_gender.\\\n",
    "        join(churn_users, on = 'userId', how = 'left').\\\n",
    "        join(paid_users, on = 'userId', how = 'left').\\\n",
    "        join(page_cnts, on = 'userId', how = 'left').\\\n",
    "        join(device_cnts, on = 'userId', how = 'left')\n",
    "for v in num_of_events.values():\n",
    "        data = data.join(v, on = 'userId', how = 'left')\n",
    "data = data.withColumnRenamed('count(DISTINCT artist)', 'num_artists') \\\n",
    "            .withColumnRenamed('count(DISTINCT page)', 'num_pages') \\\n",
    "            .withColumnRenamed('count(DISTINCT sessionId)', 'num_sessions') \\\n",
    "            .withColumnRenamed('count(DISTINCT song)', 'num_songs')\n",
    "data = data.fillna(0)\n",
    "data = data.drop('count')"
   ]
  },
  {
   "cell_type": "code",
   "execution_count": 61,
   "metadata": {},
   "outputs": [
    {
     "data": {
      "text/html": [
       "<div>\n",
       "<style scoped>\n",
       "    .dataframe tbody tr th:only-of-type {\n",
       "        vertical-align: middle;\n",
       "    }\n",
       "\n",
       "    .dataframe tbody tr th {\n",
       "        vertical-align: top;\n",
       "    }\n",
       "\n",
       "    .dataframe thead th {\n",
       "        text-align: right;\n",
       "    }\n",
       "</style>\n",
       "<table border=\"1\" class=\"dataframe\">\n",
       "  <thead>\n",
       "    <tr style=\"text-align: right;\">\n",
       "      <th></th>\n",
       "      <th>userId</th>\n",
       "      <th>gender</th>\n",
       "      <th>is_churn</th>\n",
       "      <th>is_paid_user</th>\n",
       "      <th>Add_Friend</th>\n",
       "      <th>Downgrade</th>\n",
       "      <th>Upgrade</th>\n",
       "      <th>Error</th>\n",
       "      <th>Help</th>\n",
       "      <th>Logout</th>\n",
       "      <th>NextSong</th>\n",
       "      <th>Roll_Advert</th>\n",
       "      <th>Thumbs_Down</th>\n",
       "      <th>Thumbs_Up</th>\n",
       "      <th>device</th>\n",
       "      <th>num_artists</th>\n",
       "      <th>num_pages</th>\n",
       "      <th>num_sessions</th>\n",
       "      <th>num_songs</th>\n",
       "    </tr>\n",
       "  </thead>\n",
       "  <tbody>\n",
       "    <tr>\n",
       "      <th>0</th>\n",
       "      <td>100010</td>\n",
       "      <td>F</td>\n",
       "      <td>0</td>\n",
       "      <td>0</td>\n",
       "      <td>4.0</td>\n",
       "      <td>0.0</td>\n",
       "      <td>2.0</td>\n",
       "      <td>0.0</td>\n",
       "      <td>2.0</td>\n",
       "      <td>5.0</td>\n",
       "      <td>275.0</td>\n",
       "      <td>52.0</td>\n",
       "      <td>5.0</td>\n",
       "      <td>17.0</td>\n",
       "      <td>iPhone</td>\n",
       "      <td>252</td>\n",
       "      <td>11</td>\n",
       "      <td>7</td>\n",
       "      <td>269</td>\n",
       "    </tr>\n",
       "    <tr>\n",
       "      <th>1</th>\n",
       "      <td>200002</td>\n",
       "      <td>M</td>\n",
       "      <td>0</td>\n",
       "      <td>1</td>\n",
       "      <td>4.0</td>\n",
       "      <td>5.0</td>\n",
       "      <td>2.0</td>\n",
       "      <td>0.0</td>\n",
       "      <td>2.0</td>\n",
       "      <td>5.0</td>\n",
       "      <td>387.0</td>\n",
       "      <td>7.0</td>\n",
       "      <td>6.0</td>\n",
       "      <td>21.0</td>\n",
       "      <td>iPhone</td>\n",
       "      <td>339</td>\n",
       "      <td>14</td>\n",
       "      <td>6</td>\n",
       "      <td>378</td>\n",
       "    </tr>\n",
       "    <tr>\n",
       "      <th>2</th>\n",
       "      <td>125</td>\n",
       "      <td>M</td>\n",
       "      <td>1</td>\n",
       "      <td>0</td>\n",
       "      <td>0.0</td>\n",
       "      <td>0.0</td>\n",
       "      <td>0.0</td>\n",
       "      <td>0.0</td>\n",
       "      <td>0.0</td>\n",
       "      <td>0.0</td>\n",
       "      <td>8.0</td>\n",
       "      <td>1.0</td>\n",
       "      <td>0.0</td>\n",
       "      <td>0.0</td>\n",
       "      <td>Macintosh</td>\n",
       "      <td>8</td>\n",
       "      <td>4</td>\n",
       "      <td>1</td>\n",
       "      <td>8</td>\n",
       "    </tr>\n",
       "    <tr>\n",
       "      <th>3</th>\n",
       "      <td>124</td>\n",
       "      <td>F</td>\n",
       "      <td>0</td>\n",
       "      <td>1</td>\n",
       "      <td>74.0</td>\n",
       "      <td>41.0</td>\n",
       "      <td>0.0</td>\n",
       "      <td>6.0</td>\n",
       "      <td>23.0</td>\n",
       "      <td>59.0</td>\n",
       "      <td>4079.0</td>\n",
       "      <td>4.0</td>\n",
       "      <td>41.0</td>\n",
       "      <td>171.0</td>\n",
       "      <td>Macintosh</td>\n",
       "      <td>2232</td>\n",
       "      <td>14</td>\n",
       "      <td>29</td>\n",
       "      <td>3339</td>\n",
       "    </tr>\n",
       "    <tr>\n",
       "      <th>4</th>\n",
       "      <td>51</td>\n",
       "      <td>M</td>\n",
       "      <td>1</td>\n",
       "      <td>1</td>\n",
       "      <td>28.0</td>\n",
       "      <td>23.0</td>\n",
       "      <td>0.0</td>\n",
       "      <td>1.0</td>\n",
       "      <td>12.0</td>\n",
       "      <td>24.0</td>\n",
       "      <td>2111.0</td>\n",
       "      <td>0.0</td>\n",
       "      <td>21.0</td>\n",
       "      <td>100.0</td>\n",
       "      <td>Windows</td>\n",
       "      <td>1385</td>\n",
       "      <td>15</td>\n",
       "      <td>10</td>\n",
       "      <td>1854</td>\n",
       "    </tr>\n",
       "  </tbody>\n",
       "</table>\n",
       "</div>"
      ],
      "text/plain": [
       "   userId gender  is_churn  is_paid_user  Add_Friend  Downgrade  Upgrade  \\\n",
       "0  100010      F         0             0         4.0        0.0      2.0   \n",
       "1  200002      M         0             1         4.0        5.0      2.0   \n",
       "2     125      M         1             0         0.0        0.0      0.0   \n",
       "3     124      F         0             1        74.0       41.0      0.0   \n",
       "4      51      M         1             1        28.0       23.0      0.0   \n",
       "\n",
       "   Error  Help  Logout  NextSong  Roll_Advert  Thumbs_Down  Thumbs_Up  \\\n",
       "0    0.0   2.0     5.0     275.0         52.0          5.0       17.0   \n",
       "1    0.0   2.0     5.0     387.0          7.0          6.0       21.0   \n",
       "2    0.0   0.0     0.0       8.0          1.0          0.0        0.0   \n",
       "3    6.0  23.0    59.0    4079.0          4.0         41.0      171.0   \n",
       "4    1.0  12.0    24.0    2111.0          0.0         21.0      100.0   \n",
       "\n",
       "      device  num_artists  num_pages  num_sessions  num_songs  \n",
       "0     iPhone          252         11             7        269  \n",
       "1     iPhone          339         14             6        378  \n",
       "2  Macintosh            8          4             1          8  \n",
       "3  Macintosh         2232         14            29       3339  \n",
       "4    Windows         1385         15            10       1854  "
      ]
     },
     "execution_count": 61,
     "metadata": {},
     "output_type": "execute_result"
    }
   ],
   "source": [
    "data.limit(5).toPandas()"
   ]
  },
  {
   "cell_type": "code",
   "execution_count": 62,
   "metadata": {
    "scrolled": true
   },
   "outputs": [
    {
     "name": "stdout",
     "output_type": "stream",
     "text": [
      "root\n",
      " |-- userId: string (nullable = true)\n",
      " |-- gender: string (nullable = true)\n",
      " |-- is_churn: integer (nullable = true)\n",
      " |-- is_paid_user: integer (nullable = true)\n",
      " |-- Add_Friend: double (nullable = false)\n",
      " |-- Downgrade: double (nullable = false)\n",
      " |-- Upgrade: double (nullable = false)\n",
      " |-- Error: double (nullable = false)\n",
      " |-- Help: double (nullable = false)\n",
      " |-- Logout: double (nullable = false)\n",
      " |-- NextSong: double (nullable = false)\n",
      " |-- Roll_Advert: double (nullable = false)\n",
      " |-- Thumbs_Down: double (nullable = false)\n",
      " |-- Thumbs_Up: double (nullable = false)\n",
      " |-- device: string (nullable = true)\n",
      " |-- num_artists: long (nullable = true)\n",
      " |-- num_pages: long (nullable = true)\n",
      " |-- num_sessions: long (nullable = true)\n",
      " |-- num_songs: long (nullable = true)\n",
      "\n"
     ]
    }
   ],
   "source": [
    "data.printSchema()"
   ]
  },
  {
   "cell_type": "code",
   "execution_count": 63,
   "metadata": {},
   "outputs": [
    {
     "data": {
      "text/plain": [
       "(225, 19)"
      ]
     },
     "execution_count": 63,
     "metadata": {},
     "output_type": "execute_result"
    }
   ],
   "source": [
    "data.count(), len(data.columns)"
   ]
  },
  {
   "cell_type": "code",
   "execution_count": 84,
   "metadata": {},
   "outputs": [
    {
     "data": {
      "image/png": "[encoded data removed]",
      "text/plain": [
       "<matplotlib.figure.Figure at 0x7f5511de5320>"
      ]
     },
     "metadata": {
      "needs_background": "light"
     },
     "output_type": "display_data"
    }
   ],
   "source": [
    "# Churn rates by Gender\n",
    "churn_by_gender = data.groupby('gender', 'is_churn').agg(countDistinct('userId')).toPandas().rename(columns = {'count(DISTINCT userId)':'num_of_users'})\\\n",
    "       .pivot(index = 'gender', columns = 'is_churn', values = 'num_of_users').\\\n",
    "           rename(columns = {0:'Not Churn', 1:'Churn'})\n",
    "\n",
    "churn_by_gender['All']= churn_by_gender['Not Churn'] + churn_by_gender['Churn']\n",
    "churn_by_gender['Churn_rate'] = churn_by_gender['Churn'] / churn_by_gender['All']\n",
    "churn_by_gender['Not_Churn_rate'] = 1 - churn_by_gender['Churn_rate']\n",
    "\n",
    "fig = plt.figure(figsize = (10, 10))\n",
    "ax1 = fig.add_subplot(2,1,1)\n",
    "churn_by_gender[['Churn','Not Churn']].plot(kind = 'bar', ax = ax1, stacked = True)\n",
    "plt.title('Churn Users Counts Groupby Gender')\n",
    "plt.legend(loc = 'right')\n",
    "ax2 = fig.add_subplot(2,1,2)\n",
    "churn_by_gender[['Churn_rate','Not_Churn_rate']].plot(kind = 'bar', ax = ax2, stacked = True)\n",
    "plt.title('Churn Rates Groupby Gender')\n",
    "plt.legend(loc = 'best')\n",
    "plt.tight_layout()"
   ]
  },
  {
   "cell_type": "code",
   "execution_count": 83,
   "metadata": {},
   "outputs": [
    {
     "data": {
      "image/png": "[encoded data removed]",
      "text/plain": [
       "<matplotlib.figure.Figure at 0x7f5510e51160>"
      ]
     },
     "metadata": {
      "needs_background": "light"
     },
     "output_type": "display_data"
    }
   ],
   "source": [
    "# Churn rates by paid level\n",
    "churn_by_level = data.groupby('is_paid_user', 'is_churn').agg(countDistinct('userId')).toPandas()\\\n",
    "    .rename(columns = {'count(DISTINCT userId)':'num_of_users'}).pivot(index = 'is_paid_user', \\\n",
    "                        columns = 'is_churn', values = 'num_of_users').rename(columns = {0:'Not Churn', 1:'Churn'})\n",
    "\n",
    "churn_by_level['All']= churn_by_level['Not Churn'] + churn_by_level['Churn']\n",
    "churn_by_level['Churn_rate'] = churn_by_level['Churn'] / churn_by_level['All']\n",
    "churn_by_level['Not_Churn_rate'] = 1 - churn_by_level['Churn_rate']\n",
    "\n",
    "fig = plt.figure(figsize = (10, 10))\n",
    "ax1 = fig.add_subplot(2,1,1)\n",
    "churn_by_level[['Churn','Not Churn']].plot(kind = 'bar', ax = ax1, stacked = True)\n",
    "plt.title('Churn Users Counts Groupby Level')\n",
    "plt.legend(loc = 'right')\n",
    "ax2 = fig.add_subplot(2,1,2)\n",
    "churn_by_level[['Churn_rate','Not_Churn_rate']].plot(kind = 'bar', ax = ax2, stacked = True)\n",
    "plt.title('Churn Rates Groupby Level')\n",
    "plt.legend(loc = 'best')\n",
    "plt.tight_layout()"
   ]
  },
  {
   "cell_type": "code",
   "execution_count": 14,
   "metadata": {},
   "outputs": [
    {
     "data": {
      "image/png": "[encoded data removed]",
      "text/plain": [
       "<matplotlib.figure.Figure at 0x7fe07188b8d0>"
      ]
     },
     "metadata": {
      "needs_background": "light"
     },
     "output_type": "display_data"
    }
   ],
   "source": [
    "# events vs churn\n",
    "event_categories = ['Add_Friend','Downgrade','Upgrade','Error','Help',\\\n",
    "                    'Logout','NextSong','Roll_Advert','Thumbs_Down','Thumbs_Up']\n",
    "data_df = data.toPandas()\n",
    "fig = plt.figure(figsize = (30, 25))\n",
    "for i, col in enumerate(event_categories):\n",
    "    ax = fig.add_subplot(4,3,i+1)\n",
    "    data_df.boxplot(col, ax = ax, grid = False, by = 'is_churn', fontsize = 'large', showfliers=False)\n",
    "fig.suptitle('')\n",
    "plt.tight_layout()\n",
    "plt.show()"
   ]
  },
  {
   "cell_type": "code",
   "execution_count": 85,
   "metadata": {},
   "outputs": [
    {
     "data": {
      "image/png": "[encoded data removed]",
      "text/plain": [
       "<matplotlib.figure.Figure at 0x7f5510d22630>"
      ]
     },
     "metadata": {
      "needs_background": "light"
     },
     "output_type": "display_data"
    }
   ],
   "source": [
    "churn_by_device = data.groupby('device', 'is_churn').agg(countDistinct('userId')).toPandas()\\\n",
    "    .rename(columns = {'count(DISTINCT userId)':'num_of_users'}).pivot(index = 'device', \\\n",
    "                        columns = 'is_churn', values = 'num_of_users').rename(columns = {0:'Not Churn', 1:'Churn'})\n",
    "churn_by_device.fillna(0, inplace = True)\n",
    "churn_by_device['All']= churn_by_device['Not Churn'] + churn_by_device['Churn']\n",
    "churn_by_device['Churn_rate'] = churn_by_device['Churn'] / churn_by_device['All']\n",
    "churn_by_device['Not_Churn_rate'] = 1 - churn_by_device['Churn_rate']\n",
    "\n",
    "fig = plt.figure(figsize = (15, 10))\n",
    "ax1 = fig.add_subplot(2,1,1)\n",
    "churn_by_device[['Churn','Not Churn']].plot(kind = 'bar', ax = ax1, stacked = True)\n",
    "plt.title('Churn Users Counts Groupby Device')\n",
    "plt.legend(loc = 'right')\n",
    "ax2 = fig.add_subplot(2,1,2)\n",
    "churn_by_device[['Churn_rate','Not_Churn_rate']].plot(kind = 'bar', ax = ax2, stacked = True)\n",
    "plt.title('Churn Rates Groupby Device')\n",
    "plt.legend(loc = 'best')\n",
    "plt.tight_layout()"
   ]
  },
  {
   "cell_type": "code",
   "execution_count": 37,
   "metadata": {},
   "outputs": [
    {
     "data": {
      "image/png": "[encoded data removed]",
      "text/plain": [
       "<matplotlib.figure.Figure at 0x7fa9df7c35f8>"
      ]
     },
     "metadata": {
      "needs_background": "light"
     },
     "output_type": "display_data"
    }
   ],
   "source": [
    "# Churn vs music-related metric\n",
    "music_events = ['num_artists','num_pages','num_sessions','num_songs']  \n",
    "data_df = data.toPandas()\n",
    "fig = plt.figure(figsize = (10, 6))\n",
    "for i, col in enumerate(music_events):\n",
    "    ax = fig.add_subplot(2,2,i+1)\n",
    "    data_df.boxplot(col, ax = ax, grid = False, by = 'is_churn', fontsize = 'large', showfliers=False)\n",
    "fig.suptitle('')\n",
    "plt.tight_layout()\n",
    "plt.show()"
   ]
  },
  {
   "cell_type": "markdown",
   "metadata": {},
   "source": [
    "# 3. Feature Engineering\n",
    "\n",
    "Features are generated on user level. \n",
    "- gender (Male: 1; Female: 0)\n",
    "- level (paid or free)\n",
    "- most frequent device\n",
    "- number of songs listened per user\n",
    "- number of artists listened to per user\n",
    "- number of sessions per user\n",
    "- avg number of pages visited per session per user\n",
    "- number of ads views per user\n",
    "- number of pageviews of 'Error' per user\n",
    "- number of pageviews of 'Help' per user\n",
    "- number of pageviews of 'Downgrade' per user\n",
    "- number of pageviews of 'Upgrade' per user\n",
    "- number of pageviews of 'Logout' per user\n",
    "- percentage of thumb-ups of total 'NextSong' pagesviews per user\n",
    "- percentage of thumb-downs of total 'NextSong' pagesviews per user"
   ]
  },
  {
   "cell_type": "code",
   "execution_count": 42,
   "metadata": {},
   "outputs": [],
   "source": [
    "data = data.withColumn('gender', when(data.gender == 'M', 1).otherwise(0))"
   ]
  },
  {
   "cell_type": "code",
   "execution_count": 43,
   "metadata": {},
   "outputs": [],
   "source": [
    "data = data.withColumn('pages_per_session', (data.num_pages/data.num_sessions).cast(FloatType()))"
   ]
  },
  {
   "cell_type": "code",
   "execution_count": 44,
   "metadata": {},
   "outputs": [],
   "source": [
    "data = data.withColumn('thumbups_ratio', (data.Thumbs_Up/data.NextSong).cast(FloatType()))"
   ]
  },
  {
   "cell_type": "code",
   "execution_count": 45,
   "metadata": {},
   "outputs": [],
   "source": [
    "data = data.withColumn('thumbdowns_ratio', (data.Thumbs_Down/data.NextSong).cast(FloatType()))"
   ]
  },
  {
   "cell_type": "code",
   "execution_count": 46,
   "metadata": {},
   "outputs": [],
   "source": [
    "device = data.groupby('userId').pivot('device').agg(lit(1)).fillna(0)\n",
    "data = data.join(device, on = 'userId', how = 'left')"
   ]
  },
  {
   "cell_type": "code",
   "execution_count": 47,
   "metadata": {},
   "outputs": [],
   "source": [
    "data = data.drop('device')\n",
    "data = data.withColumn('label', data['is_churn'].cast('float')).drop('is_churn')"
   ]
  },
  {
   "cell_type": "code",
   "execution_count": 48,
   "metadata": {},
   "outputs": [
    {
     "data": {
      "text/plain": [
       "['gender',\n",
       " 'is_paid_user',\n",
       " 'Add_Friend',\n",
       " 'Downgrade',\n",
       " 'Upgrade',\n",
       " 'Error',\n",
       " 'Help',\n",
       " 'Logout',\n",
       " 'NextSong',\n",
       " 'Roll_Advert',\n",
       " 'Thumbs_Down',\n",
       " 'Thumbs_Up',\n",
       " 'num_artists',\n",
       " 'num_pages',\n",
       " 'num_sessions',\n",
       " 'num_songs',\n",
       " 'pages_per_session',\n",
       " 'thumbups_ratio',\n",
       " 'thumbdowns_ratio',\n",
       " 'Macintosh',\n",
       " 'Windows',\n",
       " 'X11',\n",
       " 'compatible',\n",
       " 'iPad',\n",
       " 'iPhone']"
      ]
     },
     "execution_count": 48,
     "metadata": {},
     "output_type": "execute_result"
    }
   ],
   "source": [
    "feature_col = data.drop('userId', 'label').columns\n",
    "feature_col"
   ]
  },
  {
   "cell_type": "code",
   "execution_count": 25,
   "metadata": {},
   "outputs": [
    {
     "name": "stdout",
     "output_type": "stream",
     "text": [
      "root\n",
      " |-- userId: string (nullable = true)\n",
      " |-- gender: integer (nullable = false)\n",
      " |-- is_paid_user: integer (nullable = true)\n",
      " |-- Add_Friend: double (nullable = false)\n",
      " |-- Downgrade: double (nullable = false)\n",
      " |-- Upgrade: double (nullable = false)\n",
      " |-- Error: double (nullable = false)\n",
      " |-- Help: double (nullable = false)\n",
      " |-- Logout: double (nullable = false)\n",
      " |-- NextSong: double (nullable = false)\n",
      " |-- Roll_Advert: double (nullable = false)\n",
      " |-- Thumbs_Down: double (nullable = false)\n",
      " |-- Thumbs_Up: double (nullable = false)\n",
      " |-- num_artists: long (nullable = true)\n",
      " |-- num_pages: long (nullable = true)\n",
      " |-- num_sessions: long (nullable = true)\n",
      " |-- num_songs: long (nullable = true)\n",
      " |-- pages_per_session: float (nullable = true)\n",
      " |-- thumbups_ratio: float (nullable = true)\n",
      " |-- thumbdowns_ratio: float (nullable = true)\n",
      " |-- Macintosh: integer (nullable = true)\n",
      " |-- Windows: integer (nullable = true)\n",
      " |-- X11: integer (nullable = true)\n",
      " |-- compatible: integer (nullable = true)\n",
      " |-- iPad: integer (nullable = true)\n",
      " |-- iPhone: integer (nullable = true)\n",
      " |-- label: float (nullable = true)\n",
      "\n"
     ]
    }
   ],
   "source": [
    "data.printSchema()"
   ]
  },
  {
   "cell_type": "code",
   "execution_count": 113,
   "metadata": {},
   "outputs": [
    {
     "name": "stdout",
     "output_type": "stream",
     "text": [
      "userId 0\n",
      "gender 0\n",
      "is_churn 0\n",
      "is_paid_user 0\n",
      "Add_Friend 0\n",
      "Downgrade 0\n",
      "Upgrade 0\n",
      "Error 0\n",
      "Help 0\n",
      "Logout 0\n",
      "NextSong 0\n",
      "Roll_Advert 0\n",
      "Thumbs_Down 0\n",
      "Thumbs_Up 0\n",
      "num_artists 0\n",
      "num_pages 0\n",
      "num_sessions 0\n",
      "num_songs 0\n",
      "pages_per_session 0\n",
      "thumbups_ratio 0\n",
      "thumbdowns_ratio 0\n",
      "Macintosh 0\n",
      "Windows 0\n",
      "X11 0\n",
      "compatible 0\n",
      "iPad 0\n",
      "iPhone 0\n"
     ]
    }
   ],
   "source": [
    "# Check null values\n",
    "for col in data.schema.names: \n",
    "    print(col, data.filter((data[col] == \"\") | data[col].isNull()).count())"
   ]
  },
  {
   "cell_type": "code",
   "execution_count": 19,
   "metadata": {},
   "outputs": [
    {
     "data": {
      "text/html": [
       "<div>\n",
       "<style scoped>\n",
       "    .dataframe tbody tr th:only-of-type {\n",
       "        vertical-align: middle;\n",
       "    }\n",
       "\n",
       "    .dataframe tbody tr th {\n",
       "        vertical-align: top;\n",
       "    }\n",
       "\n",
       "    .dataframe thead th {\n",
       "        text-align: right;\n",
       "    }\n",
       "</style>\n",
       "<table border=\"1\" class=\"dataframe\">\n",
       "  <thead>\n",
       "    <tr style=\"text-align: right;\">\n",
       "      <th></th>\n",
       "      <th>userId</th>\n",
       "      <th>gender</th>\n",
       "      <th>is_churn</th>\n",
       "      <th>is_paid_user</th>\n",
       "      <th>Add_Friend</th>\n",
       "      <th>Downgrade</th>\n",
       "      <th>Upgrade</th>\n",
       "      <th>Error</th>\n",
       "      <th>Help</th>\n",
       "      <th>Logout</th>\n",
       "      <th>...</th>\n",
       "      <th>num_songs</th>\n",
       "      <th>pages_per_session</th>\n",
       "      <th>thumbups_ratio</th>\n",
       "      <th>thumbdowns_ratio</th>\n",
       "      <th>Macintosh</th>\n",
       "      <th>Windows</th>\n",
       "      <th>X11</th>\n",
       "      <th>compatible</th>\n",
       "      <th>iPad</th>\n",
       "      <th>iPhone</th>\n",
       "    </tr>\n",
       "  </thead>\n",
       "  <tbody>\n",
       "    <tr>\n",
       "      <th>0</th>\n",
       "      <td>100010</td>\n",
       "      <td>0</td>\n",
       "      <td>0</td>\n",
       "      <td>0</td>\n",
       "      <td>4.0</td>\n",
       "      <td>0.0</td>\n",
       "      <td>2.0</td>\n",
       "      <td>0.0</td>\n",
       "      <td>2.0</td>\n",
       "      <td>5.0</td>\n",
       "      <td>...</td>\n",
       "      <td>269</td>\n",
       "      <td>1.571429</td>\n",
       "      <td>0.061818</td>\n",
       "      <td>0.018182</td>\n",
       "      <td>0</td>\n",
       "      <td>0</td>\n",
       "      <td>0</td>\n",
       "      <td>0</td>\n",
       "      <td>0</td>\n",
       "      <td>1</td>\n",
       "    </tr>\n",
       "    <tr>\n",
       "      <th>1</th>\n",
       "      <td>200002</td>\n",
       "      <td>1</td>\n",
       "      <td>0</td>\n",
       "      <td>1</td>\n",
       "      <td>4.0</td>\n",
       "      <td>5.0</td>\n",
       "      <td>2.0</td>\n",
       "      <td>0.0</td>\n",
       "      <td>2.0</td>\n",
       "      <td>5.0</td>\n",
       "      <td>...</td>\n",
       "      <td>378</td>\n",
       "      <td>2.333333</td>\n",
       "      <td>0.054264</td>\n",
       "      <td>0.015504</td>\n",
       "      <td>0</td>\n",
       "      <td>0</td>\n",
       "      <td>0</td>\n",
       "      <td>0</td>\n",
       "      <td>0</td>\n",
       "      <td>1</td>\n",
       "    </tr>\n",
       "    <tr>\n",
       "      <th>2</th>\n",
       "      <td>125</td>\n",
       "      <td>1</td>\n",
       "      <td>1</td>\n",
       "      <td>0</td>\n",
       "      <td>0.0</td>\n",
       "      <td>0.0</td>\n",
       "      <td>0.0</td>\n",
       "      <td>0.0</td>\n",
       "      <td>0.0</td>\n",
       "      <td>0.0</td>\n",
       "      <td>...</td>\n",
       "      <td>8</td>\n",
       "      <td>4.000000</td>\n",
       "      <td>0.000000</td>\n",
       "      <td>0.000000</td>\n",
       "      <td>1</td>\n",
       "      <td>0</td>\n",
       "      <td>0</td>\n",
       "      <td>0</td>\n",
       "      <td>0</td>\n",
       "      <td>0</td>\n",
       "    </tr>\n",
       "  </tbody>\n",
       "</table>\n",
       "<p>3 rows × 27 columns</p>\n",
       "</div>"
      ],
      "text/plain": [
       "   userId  gender  is_churn  is_paid_user  Add_Friend  Downgrade  Upgrade  \\\n",
       "0  100010       0         0             0         4.0        0.0      2.0   \n",
       "1  200002       1         0             1         4.0        5.0      2.0   \n",
       "2     125       1         1             0         0.0        0.0      0.0   \n",
       "\n",
       "   Error  Help  Logout   ...    num_songs  pages_per_session  thumbups_ratio  \\\n",
       "0    0.0   2.0     5.0   ...          269           1.571429        0.061818   \n",
       "1    0.0   2.0     5.0   ...          378           2.333333        0.054264   \n",
       "2    0.0   0.0     0.0   ...            8           4.000000        0.000000   \n",
       "\n",
       "   thumbdowns_ratio  Macintosh  Windows  X11  compatible  iPad  iPhone  \n",
       "0          0.018182          0        0    0           0     0       1  \n",
       "1          0.015504          0        0    0           0     0       1  \n",
       "2          0.000000          1        0    0           0     0       0  \n",
       "\n",
       "[3 rows x 27 columns]"
      ]
     },
     "execution_count": 19,
     "metadata": {},
     "output_type": "execute_result"
    }
   ],
   "source": [
    "data.limit(3).toPandas()"
   ]
  },
  {
   "cell_type": "markdown",
   "metadata": {},
   "source": [
    "# 4. Modeling\n",
    "Split the full dataset into train, test, and validation sets. Test out several of the machine learning methods you learned. Evaluate the accuracy of the various models, tuning parameters as necessary. Determine your winning model based on test accuracy and report results on the validation set. Since the churned users are a fairly small subset, I suggest using F1 score as the metric to optimize."
   ]
  },
  {
   "cell_type": "markdown",
   "metadata": {},
   "source": [
    "### 4.1 Train Test Split"
   ]
  },
  {
   "cell_type": "code",
   "execution_count": 49,
   "metadata": {},
   "outputs": [],
   "source": [
    "train, test = data.drop('userId').randomSplit([0.8, 0.2], seed = 42)"
   ]
  },
  {
   "cell_type": "markdown",
   "metadata": {},
   "source": [
    "### 4.2 Build Pipeline"
   ]
  },
  {
   "cell_type": "code",
   "execution_count": 59,
   "metadata": {},
   "outputs": [],
   "source": [
    "def buildPipeline(classifier):\n",
    "    assembler = VectorAssembler(inputCols = feature_col, outputCol = 'VecFeatures')\n",
    "    scaler = StandardScaler(inputCol=\"VecFeatures\", outputCol=\"ScaledVecFeatures\", withStd=True)\n",
    "    #lr = LogisticRegression(labelCol=\"label\", featuresCol=\"ScaledVecFeatures\")\n",
    "    pipeline = Pipeline(stages = [assembler, scaler, classifer])\n",
    "    start = time.time()\n",
    "    model = pipeline.fit(train)\n",
    "    train_time = time.time() - start\n",
    "    pred_train = model.transform(train)\n",
    "    pred_test = model.transform(test)\n",
    "    evaluator = MulticlassClassificationEvaluator(metricName='f1')\n",
    "    f1score_train = evaluator.evaluate(pred_train)\n",
    "    f1score_test = evaluator.evaluate(pred_test)\n",
    "    res = {}\n",
    "    res['f1train'] = f1score_train\n",
    "    res['f1test'] = f1score_test\n",
    "    res['time'] = train_time\n",
    "    return res"
   ]
  },
  {
   "cell_type": "code",
   "execution_count": 60,
   "metadata": {},
   "outputs": [
    {
     "name": "stdout",
     "output_type": "stream",
     "text": [
      "{'f1train': 0.8447041533615376, 'f1test': 0.789197188309286, 'time': 501.80632519721985}\n"
     ]
    }
   ],
   "source": [
    "# Logistic Regression\n",
    "classifer = LogisticRegression(labelCol=\"label\", featuresCol=\"ScaledVecFeatures\")\n",
    "lr = buildPipeline(classifer)\n",
    "print(lr)\n"
   ]
  },
  {
   "cell_type": "code",
   "execution_count": 62,
   "metadata": {},
   "outputs": [
    {
     "name": "stdout",
     "output_type": "stream",
     "text": [
      "{'f1train': 0.9027718270024856, 'f1test': 0.7797160243407708, 'time': 268.3415024280548}\n"
     ]
    }
   ],
   "source": [
    "# Random Forest\n",
    "classifer = RandomForestClassifier(labelCol=\"label\", featuresCol=\"ScaledVecFeatures\")\n",
    "rf = buildPipeline(classifer)\n",
    "print(rf)"
   ]
  },
  {
   "cell_type": "code",
   "execution_count": 63,
   "metadata": {},
   "outputs": [
    {
     "name": "stdout",
     "output_type": "stream",
     "text": [
      "{'f1train': 1.0, 'f1test': 0.798154555940023, 'time': 647.369368314743}\n"
     ]
    }
   ],
   "source": [
    "# Gradient Boosted Tree\n",
    "classifer = GBTClassifier(labelCol=\"label\", featuresCol=\"ScaledVecFeatures\")\n",
    "gbt = buildPipeline(classifer)\n",
    "print(gbt)"
   ]
  },
  {
   "cell_type": "code",
   "execution_count": 50,
   "metadata": {},
   "outputs": [],
   "source": [
    "# assembler = VectorAssembler(inputCols = feature_col, outputCol = 'VecFeatures')\n",
    "# scaler = StandardScaler(inputCol=\"VecFeatures\", outputCol=\"ScaledVecFeatures\", withStd=True)\n",
    "# lr = LogisticRegression(labelCol=\"label\", featuresCol=\"ScaledVecFeatures\")\n",
    "# pipeline = Pipeline(stages = [assembler, scaler, lr])\n"
   ]
  },
  {
   "cell_type": "code",
   "execution_count": 51,
   "metadata": {},
   "outputs": [],
   "source": [
    "# model = pipeline.fit(train)\n",
    "# pred_train = model.transform(train)\n",
    "# pred_test = model.transform(test)"
   ]
  },
  {
   "cell_type": "code",
   "execution_count": 52,
   "metadata": {},
   "outputs": [],
   "source": [
    "# evaluator = MulticlassClassificationEvaluator(metricName='f1')\n",
    "# f1score_train = evaluator.evaluate(pred_train)\n",
    "# f1score_test = evaluator.evaluate(pred_test)"
   ]
  },
  {
   "cell_type": "code",
   "execution_count": 53,
   "metadata": {},
   "outputs": [
    {
     "data": {
      "text/plain": [
       "0.8447041533615376"
      ]
     },
     "execution_count": 53,
     "metadata": {},
     "output_type": "execute_result"
    }
   ],
   "source": [
    "# f1score_train"
   ]
  },
  {
   "cell_type": "code",
   "execution_count": 54,
   "metadata": {},
   "outputs": [
    {
     "data": {
      "text/plain": [
       "0.789197188309286"
      ]
     },
     "execution_count": 54,
     "metadata": {},
     "output_type": "execute_result"
    }
   ],
   "source": [
    "# f1score_test"
   ]
  }
 ],
 "metadata": {
  "kernelspec": {
   "display_name": "Python 3",
   "language": "python",
   "name": "python3"
  },
  "language_info": {
   "codemirror_mode": {
    "name": "ipython",
    "version": 3
   },
   "file_extension": ".py",
   "mimetype": "text/x-python",
   "name": "python",
   "nbconvert_exporter": "python",
   "pygments_lexer": "ipython3",
   "version": "3.6.3"
  }
 },
 "nbformat": 4,
 "nbformat_minor": 2
}
